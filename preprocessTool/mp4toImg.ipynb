{
 "cells": [
  {
   "cell_type": "markdown",
   "id": "877a03ad",
   "metadata": {},
   "source": [
    "# Crop and Capture videos"
   ]
  },
  {
   "cell_type": "code",
   "execution_count": 2,
   "id": "a0ab1b12",
   "metadata": {},
   "outputs": [
    {
     "name": "stdout",
     "output_type": "stream",
     "text": [
      "C0016.mp4:18400 \n",
      "C0017.mp4:18700 \n",
      "C0018.mp4:20900 \n",
      "C0019.mp4:18200 \n",
      "C0020.mp4:19100 \n",
      "C0022.mp4:300 \n",
      "C0023.mp4:20500 \n",
      "C0024.mp4:19000 \n",
      "C0025.mp4:19600 \n",
      "C0026.mp4:18800 \n",
      "C0027.mp4:20000 \n"
     ]
    }
   ],
   "source": [
    "import os, cv2\n",
    "import time\n",
    "\n",
    "def cropSave(imgPath, img):\n",
    "    h, w, _ = img.shape\n",
    "    ph, pw = h//640, w//640    # patch=(1280,1280), padding=(640,640) # 18 patches\n",
    "    for i in range(ph):\n",
    "        for j in range(pw):\n",
    "            isLastRow, isLastCol = i==(ph-1), j==(pw-1)\n",
    "            if isLastRow and isLastCol:\n",
    "                return\n",
    "                #cropImg = img[h-1280:h, w-1280:w, :]\n",
    "            elif isLastRow and not isLastCol:\n",
    "                cropImg = img[h-1280:h, j*640:j*640+1280, :]\n",
    "            elif not isLastRow and isLastCol:\n",
    "                cropImg = img[i*640:i*640+1280, w-1280:w, :]\n",
    "            else:\n",
    "                cropImg = img[i*640:i*640+1280, j*640:j*640+1280, :]\n",
    "            cv2.imwrite(f\"{imgPath}_{i}_{j}.jpg\", cropImg)\n",
    "\n",
    "os.system(\"mkdir trashImg\")\n",
    "for videoName in sorted(os.listdir(\"trashVideo\")):\n",
    "    i = 0\n",
    "    cap = cv2.VideoCapture(f\"trashVideo/{videoName}\") # str(video), int(web cam)\n",
    "    while True:\n",
    "        retrieve, frame = cap.read()\n",
    "        if not retrieve or cv2.waitKey(10) == ord(\"q\"): # video end or press 'q' -> break\n",
    "            break # -1 & 0xFF = 255 # cv2.waitKey(10) & 0xFF -> force the output between 0~255 (ASCII)\n",
    "        if i%100==0:\n",
    "            print(f\"\\r{videoName}:{i}\", end=\" \")\n",
    "            cropSave(f\"trashImg/{videoName.replace('.mp4',f'_{i//100}')}\", frame)\n",
    "            time.sleep(1)\n",
    "        i+=1\n",
    "    cap.release()\n",
    "    print()"
   ]
  },
  {
   "cell_type": "markdown",
   "id": "6f21267e",
   "metadata": {},
   "source": [
    "# Capture videos only"
   ]
  },
  {
   "cell_type": "code",
   "execution_count": 3,
   "id": "03adf4c9",
   "metadata": {},
   "outputs": [
    {
     "name": "stdout",
     "output_type": "stream",
     "text": [
      "trashImg/C0016.mp4_184.jpg \n",
      "trashImg/C0017.mp4_187.jpg \n",
      "trashImg/C0018.mp4_209.jpg \n",
      "trashImg/C0019.mp4_182.jpg \n",
      "trashImg/C0020.mp4_191.jpg \n",
      "trashImg/C0022.mp4_3.jpg \n",
      "trashImg/C0023.mp4_205.jpg \n",
      "trashImg/C0024.mp4_190.jpg \n",
      "trashImg/C0025.mp4_196.jpg \n",
      "trashImg/C0026.mp4_188.jpg \n",
      "trashImg/C0027.mp4_200.jpg \n"
     ]
    }
   ],
   "source": [
    "import os, cv2\n",
    "import time\n",
    "\n",
    "os.system(\"mkdir trashImg\")\n",
    "for videoName in sorted(os.listdir(\"trashVideo\")):\n",
    "    i = 0\n",
    "    cap = cv2.VideoCapture(f\"trashVideo/{videoName}\") # str(video), int(web cam)\n",
    "    while True:\n",
    "        retrieve, frame = cap.read()\n",
    "        if not retrieve or cv2.waitKey(10) == ord(\"q\"): # video end or press 'q' -> break\n",
    "            break # -1 & 0xFF = 255 # cv2.waitKey(10) & 0xFF -> force the output between 0~255 (ASCII)\n",
    "        if i%100==0:\n",
    "            imgPath = f\"trashImg/{videoName}_{i//100}.jpg\"\n",
    "            print(\"\\r\"+imgPath, end=\" \")\n",
    "            cv2.imwrite(imgPath, frame)\n",
    "            time.sleep(1)\n",
    "        i+=1\n",
    "    cap.release()\n",
    "    print()"
   ]
  },
  {
   "cell_type": "markdown",
   "id": "8cf25b99",
   "metadata": {},
   "source": [
    "# Basic video showing"
   ]
  },
  {
   "cell_type": "code",
   "execution_count": null,
   "id": "ea9554e8",
   "metadata": {},
   "outputs": [],
   "source": [
    "import cv2\n",
    "\n",
    "cap = cv2.VideoCapture(\"C://Users/James/Downloads/UCF-101/ApplyEyeMakeup/\"\n",
    "    \"v_ApplyEyeMakeup_g01_c01.avi\") # str(video), int(web cam)\n",
    "while True:\n",
    "    retrieve, frame = cap.read()\n",
    "    if not retrieve or cv2.waitKey(10) == ord(\"q\"): # video end or press 'q' -> break\n",
    "        break # -1 & 0xFF = 255 # cv2.waitKey(10) & 0xFF -> force the output between 0~255 (ASCII)\n",
    "    cv2.imshow(\"playing\", frame) \n",
    "cap.release()\n",
    "cv2.destroyAllWindows()"
   ]
  }
 ],
 "metadata": {
  "kernelspec": {
   "display_name": "Python 3",
   "language": "python",
   "name": "python3"
  },
  "language_info": {
   "codemirror_mode": {
    "name": "ipython",
    "version": 3
   },
   "file_extension": ".py",
   "mimetype": "text/x-python",
   "name": "python",
   "nbconvert_exporter": "python",
   "pygments_lexer": "ipython3",
   "version": "3.6.13"
  }
 },
 "nbformat": 4,
 "nbformat_minor": 5
}
