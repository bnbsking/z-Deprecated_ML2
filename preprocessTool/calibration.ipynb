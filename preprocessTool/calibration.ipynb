{
 "cells": [
  {
   "cell_type": "code",
   "execution_count": 3,
   "id": "aae4cafb",
   "metadata": {},
   "outputs": [],
   "source": [
    "import os, time\n",
    "import pandas as pd\n",
    "import cv2\n",
    "import numpy as np\n",
    "import matplotlib.pyplot as plt\n",
    "\n",
    "class preprocess:\n",
    "    def __init__(self, file):\n",
    "        self.name = file.split(\"_\")[4]\n",
    "        self.img0 = cv2.imread(r\"C:\\Users\\James\\Desktop\\phone_data\\data\\\\\"+file) # ~1\n",
    "        self.img = cv2.imread(r\"C:\\Users\\James\\Desktop\\phone_data\\data\\\\\"+file, cv2.IMREAD_GRAYSCALE)\n",
    "        self.img = cv2.resize(self.img, (self.img.shape[1]//10,self.img.shape[0]//10))\n",
    "        #self.plot([self.img], [\"decolorized\"])\n",
    "        self.canny()      # get contour image self.edged\n",
    "        self.contour()    # get contour matrix self.maxContour with max size area\n",
    "        self.boundRect()  # get boundary, rotation center and angle\n",
    "        self.capture0()   # capture img0 -> total 3.8 sec # capture img -> total 1.5 sec\n",
    "        self.cut()\n",
    "    \n",
    "    def plot(self, imgList, titleList=None, cmap=\"gray\"):\n",
    "        fig = plt.figure() if len(imgList)==1 else plt.figure(figsize=(20,5))\n",
    "        fig.set_facecolor(\"white\")\n",
    "        for i in range(len(imgList)):\n",
    "            plt.subplot(1,len(imgList),i+1)\n",
    "            if titleList:\n",
    "                plt.title(titleList[i])\n",
    "            plt.imshow(imgList[i], cmap=cmap)\n",
    "        plt.show()\n",
    "    \n",
    "    def canny(self):\n",
    "        blurred = cv2.GaussianBlur(self.img.copy(), (11, 11), 0)\n",
    "        self.edged = cv2.Canny(blurred, 30, 150)\n",
    "        #self.plot([blurred, self.edged], [\"blurred\", \"canny\"])\n",
    "    \n",
    "    def contour(self):\n",
    "        contours, hierarchy = cv2.findContours(self.edged.copy(), cv2.RETR_EXTERNAL, \\\n",
    "            cv2.CHAIN_APPROX_SIMPLE)\n",
    "        contoursSize=[ (c[:,0,0].max()-c[:,0,0].min())*(c[:,0,1].max()-c[:,0,1].min()) \\\n",
    "            for c in contours ]\n",
    "        self.maxContour = contours[ np.argmax(contoursSize) ]\n",
    "        #cImg = np.zeros( (self.img.shape[0],self.img.shape[1],3) ).astype(np.uint8)\n",
    "        #cImg[:,:,0], cImg[:,:,1], cImg[:,:,2] = self.img.copy(), self.img.copy(), self.img.copy()       \n",
    "        #maxContourImg = cv2.drawContours(cImg, [self.maxContour], 0, (0,255,0), 3)\n",
    "        #self.plot([maxContourImg], [\"Contour\"], cmap=None)\n",
    "        \n",
    "    def boundRect(self):\n",
    "        self.minx, self.maxx = self.maxContour[:,0,0].min(), self.maxContour[:,0,0].max()\n",
    "        self.miny, self.maxy = self.maxContour[:,0,1].min(), self.maxContour[:,0,1].max()\n",
    "        recImg = self.img.copy()[self.miny:self.maxy,self.minx:self.maxx]\n",
    "        (self.centerx, self.centery), (w, h), self.angle = cv2.minAreaRect(self.maxContour)\n",
    "        self.angle = self.angle if self.angle<45 else 90-self.angle\n",
    "        #rot_mat = cv2.getRotationMatrix2D((self.centerx,self.centery), self.angle, 1.0)\n",
    "        #rotImg = cv2.warpAffine(recImg, rot_mat, recImg.shape[::-1], flags=cv2.INTER_LINEAR)\n",
    "        #self.plot([recImg, rotImg], [\"inscribed rect\", \"min inscribed rect after rotation\"])\n",
    "    \n",
    "    def capture(self):\n",
    "        recImg = self.img0[self.miny*10+500:self.maxy*10-500,self.minx*10+500:self.maxx*10-500,:]\n",
    "        rot_mat = cv2.getRotationMatrix2D((self.centerx*10,self.centery*10), self.angle, 1.0)\n",
    "        self.rotImg = cv2.warpAffine(recImg, rot_mat, (recImg.shape[1],recImg.shape[0]), flags=cv2.INTER_LINEAR)\n",
    "        self.plot([self.rotImg], [self.name], cmap=None)\n",
    "        #self.plot([self.img0, rotImg], [\"inscribed rect\", \"min inscribed rect after rotation\"])\n",
    "    \n",
    "    def capture0(self):\n",
    "        rot_mat = cv2.getRotationMatrix2D((self.centerx*10,self.centery*10), self.angle, 1.0)\n",
    "        shape = (self.maxy*10-self.miny*10-1000, self.maxx*10-self.minx*10-1000)\n",
    "        recImgR = self.img0[self.miny*10+500:self.maxy*10-500,self.minx*10+500:self.maxx*10-500,0].reshape(shape) \n",
    "        recImgG = self.img0[self.miny*10+500:self.maxy*10-500,self.minx*10+500:self.maxx*10-500,1].reshape(shape)\n",
    "        recImgB = self.img0[self.miny*10+500:self.maxy*10-500,self.minx*10+500:self.maxx*10-500,2].reshape(shape)\n",
    "        \n",
    "        rotImgR = cv2.warpAffine(recImgR, rot_mat, shape[::-1], flags=cv2.INTER_LINEAR)\n",
    "        rotImgG = cv2.warpAffine(recImgG, rot_mat, shape[::-1], flags=cv2.INTER_LINEAR)\n",
    "        rotImgB = cv2.warpAffine(recImgB, rot_mat, shape[::-1], flags=cv2.INTER_LINEAR)\n",
    "        self.rotImg = np.zeros(shape+(3,)).astype(np.uint8)\n",
    "        self.rotImg[:,:,0], self.rotImg[:,:,1], self.rotImg[:,:,2] = rotImgR, rotImgG, rotImgB # no reverse\n",
    "        #self.plot([self.rotImg], [self.name], cmap=None)\n",
    "        #self.plot([self.img0, rotImg], [\"inscribed rect\", \"min inscribed rect after rotation\"])\n",
    "    \n",
    "    def cut(self):\n",
    "        h, w, _ = self.rotImg.shape\n",
    "        leftImg  = [ self.rotImg[i*320:i*320+640,0:640,:] for i in range(h//320-1) ]\n",
    "        rightImg = [ self.rotImg[i*320:i*320+640,w-640:w,:] for i in range(h//320-1) ] \n",
    "        upImg    = [ self.rotImg[0:640,i*320:i*320+640,:] for i in range(w//320-1) ]\n",
    "        downImg  = [ self.rotImg[h-640:h,i*320:i*320+640,:] for i in range(w//320-1) ]\n",
    "        totalImg = leftImg+rightImg+upImg+downImg+[self.rotImg[h-640:h,w-640:w,:]]\n",
    "        #os.mkdir(f\"cutImg/{self.name}\")\n",
    "        #for i in range(len(totalImg)):\n",
    "        #    cv2.imwrite(f\"cutImg/{self.name}/{self.name}_{i}.jpg\", totalImg[i])\n",
    "        #rows = int(len(totalImg)//4+((len(totalImg)%4)>0))\n",
    "        #fig = plt.figure(figsize=(20,4*rows))\n",
    "        #fig.set_facecolor(\"white\")\n",
    "        #for i,img in enumerate(totalImg):\n",
    "        #    plt.subplot(rows, 4, i+1)\n",
    "        #    plt.imshow(totalImg[i], cmap=None)\n",
    "        #plt.show()\n",
    "        \n",
    "#f=\"11W86000383015312LKF070_1619408007_11W86000383015312LKF070_SA-AOI-TRIM_2021-04-26-11-33-27_org.jpg\"\n",
    "#g=\"11W86000383015312LKF0A0_1618553542_11W86000383015312LKF0A0_SA-AOI-TRIM_2021-04-16-14-12-22_org.jpg\""
   ]
  },
  {
   "cell_type": "code",
   "execution_count": 4,
   "id": "9f00a385",
   "metadata": {
    "scrolled": false
   },
   "outputs": [
    {
     "name": "stdout",
     "output_type": "stream",
     "text": [
      "0 1.64 || "
     ]
    }
   ],
   "source": [
    "for i,file in enumerate(os.listdir(r\"C:\\Users\\James\\Desktop\\phone_data\\data\\\\\")):\n",
    "    s = time.time()\n",
    "    obj = preprocess(file)\n",
    "    print(i, round(time.time()-s,2), end=\" || \")"
   ]
  },
  {
   "cell_type": "code",
   "execution_count": null,
   "id": "b3f7b9a2",
   "metadata": {},
   "outputs": [],
   "source": []
  },
  {
   "cell_type": "code",
   "execution_count": 5,
   "id": "0e040e95",
   "metadata": {},
   "outputs": [
    {
     "name": "stdout",
     "output_type": "stream",
     "text": [
      "0.7984106540679932\n"
     ]
    }
   ],
   "source": [
    "s = time.time()\n",
    "cv2.imread(r\"C:\\Users\\James\\Desktop\\phone_data\\data\\\\\"+file)\n",
    "print(time.time()-s)"
   ]
  },
  {
   "cell_type": "code",
   "execution_count": null,
   "id": "f36651de",
   "metadata": {},
   "outputs": [],
   "source": [
    "L = os.listdir(r\"C:\\Users\\James\\Desktop\\phone_data\\data\\\\\")\n",
    "print(len(L), L[0])\n",
    "M = list(map(lambda s:s.split(\"_\")[4], L))\n",
    "print(len(M), M[0])"
   ]
  },
  {
   "cell_type": "code",
   "execution_count": null,
   "id": "16cc4f48",
   "metadata": {},
   "outputs": [],
   "source": []
  }
 ],
 "metadata": {
  "kernelspec": {
   "display_name": "Python 3",
   "language": "python",
   "name": "python3"
  },
  "language_info": {
   "codemirror_mode": {
    "name": "ipython",
    "version": 3
   },
   "file_extension": ".py",
   "mimetype": "text/x-python",
   "name": "python",
   "nbconvert_exporter": "python",
   "pygments_lexer": "ipython3",
   "version": "3.6.13"
  }
 },
 "nbformat": 4,
 "nbformat_minor": 5
}
