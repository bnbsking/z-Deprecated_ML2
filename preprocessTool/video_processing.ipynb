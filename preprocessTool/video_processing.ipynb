{
 "cells": [
  {
   "cell_type": "code",
   "execution_count": 1,
   "id": "d17395ed",
   "metadata": {},
   "outputs": [],
   "source": [
    "import cv2\n",
    "\n",
    "cap = cv2.VideoCapture(\"C://Users/James/Downloads/UCF-101/ApplyEyeMakeup/\"\n",
    "    \"v_ApplyEyeMakeup_g01_c01.avi\") # str(video), int(web cam)\n",
    "while True:\n",
    "    retrieve, frame = cap.read()\n",
    "    if not retrieve or cv2.waitKey(10) == ord(\"q\"): # video end or press 'q' -> break\n",
    "        break # -1 & 0xFF = 255 # cv2.waitKey(10) & 0xFF -> force the output between 0~255 (ASCII)\n",
    "    cv2.imshow(\"playing\", frame) \n",
    "cap.release()\n",
    "cv2.destroyAllWindows()"
   ]
  },
  {
   "attachments": {},
   "cell_type": "markdown",
   "id": "850b7be5",
   "metadata": {},
   "source": [
    "cv2.waitKey(int $t$):\n",
    "+ must be used with cv2.imshow(str $window_name$, np.array $image$)\n",
    "+ wait $t$ milliseconds for the user input key from the window\n",
    "+ if $t$==0: wait forever\n",
    "+ return -1 if no input key when time is over, otherwise return ord(char $press\\_button$) e.g. a->97, b->98, etc."
   ]
  },
  {
   "cell_type": "code",
   "execution_count": null,
   "id": "69f171d0",
   "metadata": {},
   "outputs": [],
   "source": []
  }
 ],
 "metadata": {
  "kernelspec": {
   "display_name": "Python 3",
   "language": "python",
   "name": "python3"
  },
  "language_info": {
   "codemirror_mode": {
    "name": "ipython",
    "version": 3
   },
   "file_extension": ".py",
   "mimetype": "text/x-python",
   "name": "python",
   "nbconvert_exporter": "python",
   "pygments_lexer": "ipython3",
   "version": "3.6.13"
  }
 },
 "nbformat": 4,
 "nbformat_minor": 5
}
