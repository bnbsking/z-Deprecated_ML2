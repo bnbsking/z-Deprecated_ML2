{
 "cells": [
  {
   "cell_type": "code",
   "execution_count": 52,
   "id": "c5474f10",
   "metadata": {},
   "outputs": [],
   "source": [
    "import tensorflow as tf\n",
    "from tensorflow.keras.layers import Input, Reshape, MultiHeadAttention\n",
    "from tensorflow.keras.models import Model\n",
    "import numpy as np"
   ]
  },
  {
   "cell_type": "code",
   "execution_count": 62,
   "id": "10fe4c61",
   "metadata": {},
   "outputs": [
    {
     "name": "stdout",
     "output_type": "stream",
     "text": [
      "Model: \"model_20\"\n",
      "__________________________________________________________________________________________________\n",
      "Layer (type)                    Output Shape         Param #     Connected to                     \n",
      "==================================================================================================\n",
      "input_60 (InputLayer)           [(None, 4, 3)]       0                                            \n",
      "__________________________________________________________________________________________________\n",
      "input_62 (InputLayer)           [(None, 9, 6)]       0                                            \n",
      "__________________________________________________________________________________________________\n",
      "input_61 (InputLayer)           [(None, 9, 5)]       0                                            \n",
      "__________________________________________________________________________________________________\n",
      "multi_head_attention_24 (MultiH (None, 4, 10)        388         input_60[0][0]                   \n",
      "                                                                 input_62[0][0]                   \n",
      "                                                                 input_61[0][0]                   \n",
      "==================================================================================================\n",
      "Total params: 388\n",
      "Trainable params: 388\n",
      "Non-trainable params: 0\n",
      "__________________________________________________________________________________________________\n"
     ]
    }
   ],
   "source": [
    "\"\"\"\n",
    "tensorflow.keras.layers.MultiHeadAttention\n",
    "+ assert key.shape[0]==value.shape[0]\n",
    "+ output.shape = query.shape if output_shape==None else (query.shape[0],output_shape:int)\n",
    "+ attentionMask.shape = (query.shape[0],key.shape[0])\n",
    "\"\"\"\n",
    "\n",
    "attentionMask = np.triu( np.ones((4,9),dtype=np.float32), k=0) # mask all i-j>k element\n",
    "# k=0:upper; k>0:strict upper; k<0: strict down # some paper k=0 some k=1\n",
    "\n",
    "q = Input(shape=(4,3)) # NLP:sentence(time),word(feature) # CV:W*H,channel\n",
    "k = Input(shape=(9,5))\n",
    "v = Input(shape=(9,6))\n",
    "x = MultiHeadAttention(num_heads=2, key_dim=7, output_shape=10)(q,v,k,attention_mask=attentionMask)\n",
    "\n",
    "model = Model([q,k,v], x)\n",
    "model.summary()"
   ]
  },
  {
   "cell_type": "code",
   "execution_count": 63,
   "id": "e6048f36",
   "metadata": {
    "scrolled": true
   },
   "outputs": [
    {
     "name": "stdout",
     "output_type": "stream",
     "text": [
      "0 multi_head_attention_24/query/kernel:0 (3, 2, 7)\n",
      "1 multi_head_attention_24/query/bias:0 (2, 7)\n",
      "2 multi_head_attention_24/key/kernel:0 (5, 2, 7)\n",
      "3 multi_head_attention_24/key/bias:0 (2, 7)\n",
      "4 multi_head_attention_24/value/kernel:0 (6, 2, 7)\n",
      "5 multi_head_attention_24/value/bias:0 (2, 7)\n",
      "6 multi_head_attention_24/attention_output/kernel:0 (2, 7, 10)\n",
      "7 multi_head_attention_24/attention_output/bias:0 (10,)\n"
     ]
    }
   ],
   "source": [
    "for i in range(len(model.weights)):\n",
    "    print( i, model.weights[i].name, model.weights[i].shape )"
   ]
  },
  {
   "cell_type": "code",
   "execution_count": 48,
   "id": "37f27fc8",
   "metadata": {},
   "outputs": [
    {
     "data": {
      "text/plain": [
       "388"
      ]
     },
     "execution_count": 48,
     "metadata": {},
     "output_type": "execute_result"
    }
   ],
   "source": [
    "3*2*7 + 2*7 + 5*2*7 + 2*7 + 6*2*7 + 2*7 + 14*10 + 10"
   ]
  },
  {
   "cell_type": "code",
   "execution_count": null,
   "id": "67d6b3b8",
   "metadata": {},
   "outputs": [],
   "source": []
  }
 ],
 "metadata": {
  "kernelspec": {
   "display_name": "Python 3",
   "language": "python",
   "name": "python3"
  },
  "language_info": {
   "codemirror_mode": {
    "name": "ipython",
    "version": 3
   },
   "file_extension": ".py",
   "mimetype": "text/x-python",
   "name": "python",
   "nbconvert_exporter": "python",
   "pygments_lexer": "ipython3",
   "version": "3.6.13"
  }
 },
 "nbformat": 4,
 "nbformat_minor": 5
}
