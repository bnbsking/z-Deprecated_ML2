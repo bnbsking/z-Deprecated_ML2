{
 "cells": [
  {
   "cell_type": "code",
   "execution_count": 32,
   "metadata": {},
   "outputs": [],
   "source": [
    "import pandas as pd\n",
    "from tensorflow.keras.preprocessing.image import ImageDataGenerator\n",
    "from tensorflow.keras.layers import Input, Flatten, Dense\n",
    "from tensorflow.keras.models import Model"
   ]
  },
  {
   "cell_type": "code",
   "execution_count": 33,
   "metadata": {},
   "outputs": [
    {
     "data": {
      "text/html": [
       "<div>\n",
       "<style scoped>\n",
       "    .dataframe tbody tr th:only-of-type {\n",
       "        vertical-align: middle;\n",
       "    }\n",
       "\n",
       "    .dataframe tbody tr th {\n",
       "        vertical-align: top;\n",
       "    }\n",
       "\n",
       "    .dataframe thead th {\n",
       "        text-align: right;\n",
       "    }\n",
       "</style>\n",
       "<table border=\"1\" class=\"dataframe\">\n",
       "  <thead>\n",
       "    <tr style=\"text-align: right;\">\n",
       "      <th></th>\n",
       "      <th>id</th>\n",
       "      <th>label</th>\n",
       "    </tr>\n",
       "  </thead>\n",
       "  <tbody>\n",
       "    <tr>\n",
       "      <th>0</th>\n",
       "      <td>1.jpg</td>\n",
       "      <td>0.1</td>\n",
       "    </tr>\n",
       "    <tr>\n",
       "      <th>1</th>\n",
       "      <td>2.jpg</td>\n",
       "      <td>0.2</td>\n",
       "    </tr>\n",
       "    <tr>\n",
       "      <th>2</th>\n",
       "      <td>3.jpg</td>\n",
       "      <td>0.3</td>\n",
       "    </tr>\n",
       "    <tr>\n",
       "      <th>3</th>\n",
       "      <td>4.jpg</td>\n",
       "      <td>0.4</td>\n",
       "    </tr>\n",
       "  </tbody>\n",
       "</table>\n",
       "</div>"
      ],
      "text/plain": [
       "      id  label\n",
       "0  1.jpg    0.1\n",
       "1  2.jpg    0.2\n",
       "2  3.jpg    0.3\n",
       "3  4.jpg    0.4"
      ]
     },
     "execution_count": 33,
     "metadata": {},
     "output_type": "execute_result"
    }
   ],
   "source": [
    "df = pd.DataFrame({\"id\":[\"1.jpg\",\"2.jpg\",\"3.jpg\",\"4.jpg\"], \"label\":[0.1,0.2,0.3,0.4]})\n",
    "df"
   ]
  },
  {
   "cell_type": "code",
   "execution_count": 34,
   "metadata": {},
   "outputs": [],
   "source": [
    "datagen=ImageDataGenerator(rescale=1./255., rotation_range=90)"
   ]
  },
  {
   "cell_type": "code",
   "execution_count": 35,
   "metadata": {},
   "outputs": [
    {
     "name": "stdout",
     "output_type": "stream",
     "text": [
      "Found 2 validated image filenames.\n"
     ]
    },
    {
     "name": "stderr",
     "output_type": "stream",
     "text": [
      "/home/sw2-ai/miniconda3/envs/tensorflow/lib/python3.6/site-packages/keras_preprocessing/image/dataframe_iterator.py:282: UserWarning: Found 2 invalid image filename(s) in x_col=\"id\". These filename(s) will be ignored.\n",
      "  .format(n_invalid, x_col)\n"
     ]
    }
   ],
   "source": [
    "train_generator=datagen.flow_from_dataframe(\n",
    "    dataframe=df,\n",
    "    directory=\"./train/\",\n",
    "    x_col=\"id\",\n",
    "    y_col=\"label\",\n",
    "    batch_size=1,\n",
    "    shuffle=True,\n",
    "    class_mode=\"other\",\n",
    "    target_size=(32,32))"
   ]
  },
  {
   "cell_type": "code",
   "execution_count": 36,
   "metadata": {},
   "outputs": [
    {
     "name": "stdout",
     "output_type": "stream",
     "text": [
      "Found 2 validated image filenames.\n"
     ]
    }
   ],
   "source": [
    "valid_generator=datagen.flow_from_dataframe(\n",
    "    dataframe=df,\n",
    "    directory=\"./val/\",\n",
    "    x_col=\"id\",\n",
    "    y_col=\"label\",\n",
    "    batch_size=1,\n",
    "    shuffle=True,\n",
    "    class_mode=\"other\",\n",
    "    target_size=(32,32))"
   ]
  },
  {
   "cell_type": "code",
   "execution_count": 37,
   "metadata": {},
   "outputs": [
    {
     "name": "stdout",
     "output_type": "stream",
     "text": [
      "Model: \"model_2\"\n",
      "_________________________________________________________________\n",
      "Layer (type)                 Output Shape              Param #   \n",
      "=================================================================\n",
      "input_3 (InputLayer)         [(None, 32, 32, 3)]       0         \n",
      "_________________________________________________________________\n",
      "flatten (Flatten)            (None, 3072)              0         \n",
      "_________________________________________________________________\n",
      "dense_2 (Dense)              (None, 1)                 3073      \n",
      "=================================================================\n",
      "Total params: 3,073\n",
      "Trainable params: 3,073\n",
      "Non-trainable params: 0\n",
      "_________________________________________________________________\n"
     ]
    }
   ],
   "source": [
    "inputL = Input(shape=(32,32,3))\n",
    "x = Flatten()(inputL)\n",
    "x = Dense(1)(x)\n",
    "\n",
    "model = Model(inputL, x)\n",
    "model.compile(optimizer=\"Adam\", loss=\"mse\")\n",
    "model.summary()"
   ]
  },
  {
   "cell_type": "code",
   "execution_count": 39,
   "metadata": {},
   "outputs": [
    {
     "name": "stdout",
     "output_type": "stream",
     "text": [
      "Epoch 1/5\n",
      "1/2 [==============>...............] - ETA: 0s - loss: 0.2169Epoch 1/5\n",
      "2/2 [==============================] - 0s 38ms/step - loss: 0.1621\n",
      "2/2 [==============================] - 0s 69ms/step - loss: 0.8604 - val_loss: 0.1621\n",
      "Epoch 2/5\n",
      "1/2 [==============>...............] - ETA: 0s - loss: 0.7152Epoch 1/5\n",
      "2/2 [==============================] - 0s 24ms/step - loss: 0.0757\n",
      "2/2 [==============================] - 0s 55ms/step - loss: 0.3749 - val_loss: 0.0757\n",
      "Epoch 3/5\n",
      "1/2 [==============>...............] - ETA: 0s - loss: 0.8180Epoch 1/5\n",
      "2/2 [==============================] - 0s 26ms/step - loss: 0.0584\n",
      "2/2 [==============================] - 0s 56ms/step - loss: 0.6808 - val_loss: 0.0584\n",
      "Epoch 4/5\n",
      "1/2 [==============>...............] - ETA: 0s - loss: 0.1358Epoch 1/5\n",
      "2/2 [==============================] - 0s 37ms/step - loss: 0.1151\n",
      "2/2 [==============================] - 0s 54ms/step - loss: 0.2814 - val_loss: 0.1151\n",
      "Epoch 5/5\n",
      "1/2 [==============>...............] - ETA: 0s - loss: 0.0470Epoch 1/5\n",
      "2/2 [==============================] - 0s 36ms/step - loss: 0.0216\n",
      "2/2 [==============================] - 0s 55ms/step - loss: 0.0278 - val_loss: 0.0216\n"
     ]
    },
    {
     "data": {
      "text/plain": [
       "<tensorflow.python.keras.callbacks.History at 0x7f8fe40b8e48>"
      ]
     },
     "execution_count": 39,
     "metadata": {},
     "output_type": "execute_result"
    }
   ],
   "source": [
    "model.fit(train_generator, validation_data=valid_generator, epochs=5)"
   ]
  },
  {
   "cell_type": "code",
   "execution_count": null,
   "metadata": {},
   "outputs": [],
   "source": []
  }
 ],
 "metadata": {
  "kernelspec": {
   "display_name": "Python 3",
   "language": "python",
   "name": "python3"
  },
  "language_info": {
   "codemirror_mode": {
    "name": "ipython",
    "version": 3
   },
   "file_extension": ".py",
   "mimetype": "text/x-python",
   "name": "python",
   "nbconvert_exporter": "python",
   "pygments_lexer": "ipython3",
   "version": "3.6.10"
  }
 },
 "nbformat": 4,
 "nbformat_minor": 4
}
